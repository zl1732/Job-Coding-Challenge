{
 "cells": [
  {
   "cell_type": "code",
   "execution_count": 27,
   "metadata": {
    "collapsed": true
   },
   "outputs": [],
   "source": [
    "def GetPathFromNodes(node): \n",
    "    path = [] \n",
    "    while(node != None): \n",
    "        path.append((node[0],node[1],node[2])) \n",
    "        node = node[3] \n",
    "    return path \n",
    "\n",
    "\n",
    "def GetMap(): \n",
    "    return[\n",
    "        [ \n",
    "                [\"wall\",\"wall\",\"wall\",\"wall\",\"wall\",\"wall\",\"wall\",\"wall\"], \n",
    "                [\"wall\",\"path\",\"path\",\"path\",\"path\",\"path\",\"path\",\"wall\"], \n",
    "                [\"wall\",\"wall\",\"wall\",\"path\",\"wall\",\"path\",\"path\",\"wall\"], \n",
    "                [\"wall\",\"path\",\"path\",\"path\",\"wall\",\"wall\",\"path\",\"wall\"], \n",
    "                [\"wall\",\"path\",\"wall\",\"path\",\"path\",\"path\",\"path\",\"wall\"], \n",
    "                [\"wall\",\"path\",\"wall\",\"wall\",\"wall\",\"wall\",\"path\",\"wall\"], \n",
    "                [\"wall\",\"path\",\"path\",\"path\",\"path\",\"path\",\"path\",\"wall\"], \n",
    "                [\"wall\",\"wall\",\"wall\",\"wall\",\"wall\",\"wall\",\"wall\",\"wall\"] \n",
    "        ] ,\n",
    "        \n",
    "        [ \n",
    "                [\"wall\",\"wall\",\"wall\",\"wall\",\"wall\",\"wall\",\"wall\",\"wall\"], \n",
    "                [\"wall\",\"path\",\"path\",\"path\",\"path\",\"path\",\"path\",\"wall\"], \n",
    "                [\"wall\",\"wall\",\"wall\",\"path\",\"wall\",\"path\",\"path\",\"wall\"], \n",
    "                [\"wall\",\"path\",\"path\",\"path\",\"wall\",\"wall\",\"exit\",\"wall\"], \n",
    "                [\"wall\",\"path\",\"wall\",\"path\",\"path\",\"path\",\"path\",\"wall\"], \n",
    "                [\"wall\",\"path\",\"wall\",\"wall\",\"wall\",\"wall\",\"path\",\"wall\"], \n",
    "                [\"wall\",\"path\",\"path\",\"path\",\"path\",\"path\",\"path\",\"wall\"], \n",
    "                [\"wall\",\"wall\",\"wall\",\"wall\",\"wall\",\"wall\",\"wall\",\"wall\"] \n",
    "        ] ,\n",
    "\n",
    "        [ \n",
    "                [\"wall\",\"wall\",\"wall\",\"wall\",\"wall\",\"wall\",\"wall\",\"wall\"], \n",
    "                [\"wall\",\"path\",\"exit\",\"path\",\"path\",\"path\",\"path\",\"wall\"], \n",
    "                [\"wall\",\"wall\",\"wall\",\"path\",\"wall\",\"path\",\"path\",\"wall\"], \n",
    "                [\"wall\",\"path\",\"path\",\"path\",\"wall\",\"wall\",\"path\",\"wall\"], \n",
    "                [\"wall\",\"path\",\"wall\",\"path\",\"path\",\"path\",\"path\",\"wall\"], \n",
    "                [\"wall\",\"path\",\"wall\",\"wall\",\"wall\",\"wall\",\"path\",\"wall\"], \n",
    "                [\"wall\",\"path\",\"path\",\"path\",\"path\",\"path\",\"path\",\"wall\"], \n",
    "                [\"wall\",\"wall\",\"wall\",\"exit\",\"wall\",\"wall\",\"wall\",\"wall\"] \n",
    "        ] \n",
    "\n",
    "        ]\n",
    "\n",
    "\n",
    "def DrawMap(Map,path): \n",
    "    for x in range(0,len(Map)): \n",
    "        for y in range(0,len(Map[x])): \n",
    "            for z in range(0,len(Map[x][y])):\n",
    "                if ((x,y,z) in path): \n",
    "                    assert Map[x][y][z] in (\"path\",\"exit\") \n",
    "                    print(\"-\",end=\"\") \n",
    "                elif (Map[x][y][z] ==\"wall\"): \n",
    "                    print(\"#\",end=\"\") \n",
    "                elif (Map[x][y][z] ==\"exit\"): \n",
    "                    print(\".\",end=\"\") \n",
    "                else: \n",
    "                    print(' ',end=\"\") \n",
    "            print() "
   ]
  },
  {
   "cell_type": "code",
   "execution_count": 28,
   "metadata": {
    "collapsed": false
   },
   "outputs": [],
   "source": [
    "from collections import deque \n",
    "def BFS(x,y,z,Map): \n",
    "    queue = deque( [(x,y,z,None)]) #create queue \n",
    "    k=0\n",
    "    while len(queue)>0: #make sure there are nodes to check left \n",
    "        node = queue.popleft() #grab the first node \n",
    "        x = node[0] #get x and y \n",
    "        y = node[1] \n",
    "        z = node[2]\n",
    "        if Map[x][y][z] == \"exit\": #check if it's an exit \n",
    "            return GetPathFromNodes(node) #if it is then return the path \n",
    "        if (Map[x][y][z]!=\"path\"): #if it's not a path, we can't try this spot \n",
    "            continue \n",
    "        Map[x][y][z]=\"explored\" #make this spot explored so we don't try again \n",
    "        for i in [[x-1,y,z],[x+1,y,z],[x,y-1,z],[x,y+1,z],[x,y,z+1],[x,y,z-1]]: #new spots to try \n",
    "            if i[0]>=len(Map) or i[1]>=len(Map[x]) or i[2]>=len(Map[x][y]) or i[0]<0 or i[1]<0 or i[2]<0:\n",
    "                continue\n",
    "            queue.append((i[0],i[1],i[2],node))#create the new spot, with node as the parent \n",
    "    return [] \n",
    "\n",
    "def DFS(x,y,z,Map): \n",
    "    if (Map[x][y][z]==\"exit\"): #check if we're at the exit \n",
    "        return [(x,y,z)] #if so then we solved it so return this spot \n",
    "    if (Map[x][y][z]!=\"path\"): #if it's not a path, we can't try this spot \n",
    "        return [] \n",
    "    Map[x][y][z]=\"explored\" #make this spot explored so we don't try again \n",
    "    for i in [[x-1,y,z],[x+1,y,z],[x,y-1,z],[x,y+1,z],[x,y,z-1],[x,y,z+1]]: #new spots to try \n",
    "        if i[0]>=len(Map) or i[1]>=len(Map[x]) or i[2]>=len(Map[x][y]) or i[0]<0 or i[1]<0 or i[2]<0:\n",
    "            continue\n",
    "        result = DFS(i[0],i[1],i[2],Map) #recursively call itself \n",
    "        if len(result)>0: #if the result had at least one element, it found a correct path, otherwise it failed \n",
    "            result.append((x,y,z)) #if it found a correct path then return the path plus this spot \n",
    "            return result \n",
    "    return [] #return the empty list since we couldn't find any paths from here \n"
   ]
  },
  {
   "cell_type": "code",
   "execution_count": 29,
   "metadata": {
    "collapsed": false
   },
   "outputs": [
    {
     "name": "stdout",
     "output_type": "stream",
     "text": [
      "\n",
      "\n",
      "solved with BFS\n",
      "path is  4  spots long\n",
      "########\n",
      "#-     #\n",
      "### #  #\n",
      "#   ## #\n",
      "# #    #\n",
      "# #### #\n",
      "#      #\n",
      "########\n",
      "########\n",
      "#-     #\n",
      "### #  #\n",
      "#   ##.#\n",
      "# #    #\n",
      "# #### #\n",
      "#      #\n",
      "########\n",
      "########\n",
      "#--    #\n",
      "### #  #\n",
      "#   ## #\n",
      "# #    #\n",
      "# #### #\n",
      "#      #\n",
      "###.####\n",
      "\n",
      "\n",
      "solved with DFS\n",
      "path is  4  spots long\n",
      "########\n",
      "#-     #\n",
      "### #  #\n",
      "#   ## #\n",
      "# #    #\n",
      "# #### #\n",
      "#      #\n",
      "########\n",
      "########\n",
      "#-     #\n",
      "### #  #\n",
      "#   ##.#\n",
      "# #    #\n",
      "# #### #\n",
      "#      #\n",
      "########\n",
      "########\n",
      "#--    #\n",
      "### #  #\n",
      "#   ## #\n",
      "# #    #\n",
      "# #### #\n",
      "#      #\n",
      "###.####\n"
     ]
    }
   ],
   "source": [
    "#print(\"unsolved\") \n",
    "#DrawMap(GetMap(),[]) \n",
    "\n",
    "print(\"\\n\") \n",
    "print(\"solved with BFS\") \n",
    "print(\"path is \",len(BFS(0,1,1,GetMap())),\" spots long\") \n",
    "DrawMap(GetMap(),BFS(0,1,1,GetMap()))\n",
    "\n",
    "print(\"\\n\") \n",
    "print(\"solved with DFS\") \n",
    "print(\"path is \",len(DFS(0,1,1,GetMap())),\" spots long\") \n",
    "DrawMap(GetMap(),DFS(0,1,1,GetMap()))"
   ]
  },
  {
   "cell_type": "code",
   "execution_count": 126,
   "metadata": {
    "collapsed": false
   },
   "outputs": [
    {
     "data": {
      "text/plain": [
       "10"
      ]
     },
     "execution_count": 126,
     "metadata": {},
     "output_type": "execute_result"
    }
   ],
   "source": [
    "## hopping jack\n",
    "def find_max(n, k):\n",
    "    if not(n>=1 and n<=2000 and k>=1 and k<=4000000):\n",
    "        return\n",
    "    else:\n",
    "        maxStep=n*(n+1)/2\n",
    "        check = ((1+8*k)**(0.5)-1) /2 \n",
    "        if int(check) == check and check<=n:\n",
    "            maxStep -= 1\n",
    "    return int(maxStep)\n",
    "find_max(4,11)"
   ]
  }
 ],
 "metadata": {
  "kernelspec": {
   "display_name": "Python 3",
   "language": "python",
   "name": "python3"
  },
  "language_info": {
   "codemirror_mode": {
    "name": "ipython",
    "version": 3
   },
   "file_extension": ".py",
   "mimetype": "text/x-python",
   "name": "python",
   "nbconvert_exporter": "python",
   "pygments_lexer": "ipython3",
   "version": "3.6.0"
  }
 },
 "nbformat": 4,
 "nbformat_minor": 2
}
