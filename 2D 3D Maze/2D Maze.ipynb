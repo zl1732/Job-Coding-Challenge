{
 "cells": [
  {
   "cell_type": "code",
   "execution_count": 14,
   "metadata": {
    "collapsed": true
   },
   "outputs": [],
   "source": [
    "class Solution(object):\n",
    "    def findShortestWay(self, maze, ball, hole):\n",
    "        \"\"\"\n",
    "        :type maze: List[List[int]]\n",
    "        :type ball: List[int]\n",
    "        :type hole: List[int]\n",
    "        :rtype: str\n",
    "        \"\"\"\n",
    "        ball, hole = tuple(ball), tuple(hole)\n",
    "        dirs = {'u' : (-1, 0), 'r' : (0, 1), 'l' : (0, -1), 'd': (1, 0)}\n",
    "        \n",
    "        def neighbors(maze, node):\n",
    "            for dir, vec in dirs.iteritems():\n",
    "                cur_node, dist = list(node), 0\n",
    "                while 0 <= cur_node[0]+vec[0] < len(maze) and \\\n",
    "                      0 <= cur_node[1]+vec[1] < len(maze[0]) and \\\n",
    "                      not maze[cur_node[0]+vec[0]][cur_node[1]+vec[1]]:\n",
    "                    cur_node[0] += vec[0]\n",
    "                    cur_node[1] += vec[1]\n",
    "                    dist += 1\n",
    "                    if tuple(cur_node) == hole:\n",
    "                        break\n",
    "                yield tuple(cur_node), dir, dist\n",
    "        \n",
    "        heap = [(0, '', ball)]\n",
    "        visited = set()\n",
    "        while heap:\n",
    "            dist, path, node = heapq.heappop(heap)\n",
    "            if node in visited: continue\n",
    "            if node == hole: return path\n",
    "            visited.add(node)\n",
    "            for neighbor, dir, neighbor_dist in neighbors(maze, node):\n",
    "                heapq.heappush(heap, (dist+neighbor_dist, path+dir, neighbor))\n",
    "            \n",
    "        return \"impossible\""
   ]
  },
  {
   "cell_type": "code",
   "execution_count": 6,
   "metadata": {
    "collapsed": false
   },
   "outputs": [
    {
     "name": "stdout",
     "output_type": "stream",
     "text": [
      "unsolved\n",
      "########\n",
      "#      #\n",
      "### #  #\n",
      "#   ## #\n",
      "# ##  .#\n",
      "#    # #\n",
      "###.####\n",
      "\n",
      "\n",
      "solved with DFS\n",
      "path is  12  spots long\n",
      "########\n",
      "#***   #\n",
      "###*#  #\n",
      "#***## #\n",
      "#*##  .#\n",
      "#*** # #\n",
      "###*####\n",
      "\n",
      "\n",
      "solved with BFS\n",
      "path is  9  spots long\n",
      "########\n",
      "#***** #\n",
      "### #**#\n",
      "#   ##*#\n",
      "# ##  *#\n",
      "#    # #\n",
      "###.####\n"
     ]
    }
   ],
   "source": [
    "def DFS(x,y,Map): \n",
    "    if (Map[x][y]==\"exit\"): #check if we're at the exit \n",
    "        return [(x,y)] #if so then we solved it so return this spot \n",
    "    if (Map[x][y]!=\"path\"): #if it's not a path, we can't try this spot \n",
    "        return [] \n",
    "    Map[x][y]=\"explored\" #make this spot explored so we don't try again \n",
    "    for i in [[x-1,y],[x+1,y],[x,y-1],[x,y+1]]: #new spots to try \n",
    "            result = DFS(i[0],i[1],Map) #recursively call itself \n",
    "            if len(result)>0: #if the result had at least one element, it found a correct path, otherwise it failed \n",
    "                result.append((x,y)) #if it found a correct path then return the path plus this spot \n",
    "                return result \n",
    "    return [] #return the empty list since we couldn't find any paths from here \n",
    "\n",
    "from collections import deque \n",
    "def BFS(x,y,Map): \n",
    "    queue = deque( [(x,y,None)]) #create queue \n",
    "    while len(queue)>0: #make sure there are nodes to check left \n",
    "        node = queue.popleft() #grab the first node \n",
    "        x = node[0] #get x and y \n",
    "        y = node[1] \n",
    "        if Map[x][y] == \"exit\": #check if it's an exit \n",
    "            return GetPathFromNodes(node) #if it is then return the path \n",
    "        if (Map[x][y]!=\"path\"): #if it's not a path, we can't try this spot \n",
    "            continue \n",
    "        Map[x][y]=\"explored\" #make this spot explored so we don't try again \n",
    "        for i in [[x-1,y],[x+1,y],[x,y-1],[x,y+1]]: #new spots to try \n",
    "            if i[0]>=len(Map) or i[1]>=len(Map[x]) or i[0]<0 or i[1]<0:\n",
    "                continue\n",
    "            queue.append((i[0],i[1],node))#create the new spot, with node as the parent \n",
    "    return []# 误解 \n",
    "            \n",
    "def GetPathFromNodes(node): \n",
    "    path = [] \n",
    "    while(node != None): \n",
    "        path.append((node[0],node[1])) \n",
    "        node = node[2] \n",
    "    return path \n",
    "        \n",
    "def GetMap(): \n",
    "    return [ \n",
    "        [\"wall\",\"wall\",\"wall\",\"wall\",\"wall\",\"wall\",\"wall\",\"wall\"], \n",
    "        [\"wall\",\"path\",\"path\",\"path\",\"path\",\"path\",\"path\",\"wall\"], \n",
    "        [\"wall\",\"wall\",\"wall\",\"path\",\"wall\",\"path\",\"path\",\"wall\"], \n",
    "        [\"wall\",\"path\",\"path\",\"path\",\"wall\",\"wall\",\"path\",\"wall\"], \n",
    "        [\"wall\",\"path\",\"wall\",\"wall\",\"path\",\"path\",\"exit\",\"wall\"], \n",
    "        [\"wall\",\"path\",\"path\",\"path\",\"path\",\"wall\",\"path\",\"wall\"], \n",
    "        [\"wall\",\"wall\",\"wall\",\"exit\",\"wall\",\"wall\",\"wall\",\"wall\"] \n",
    "            ] \n",
    "\n",
    "def DrawMap(Map,path): \n",
    "    for x in range(0,len(Map)): \n",
    "        for y in range(0,len(Map[x])): \n",
    "            if ((x,y) in path): \n",
    "                assert Map[x][y] in (\"path\",\"exit\") \n",
    "                print(\"*\",end=\"\") \n",
    "            elif (Map[x][y]==\"wall\"): \n",
    "                print(\"#\",end=\"\") \n",
    "            elif (Map[x][y]==\"exit\"): \n",
    "                print(\".\",end=\"\") \n",
    "            else: \n",
    "                print(' ',end=\"\") \n",
    "        print() \n",
    "\n",
    "print(\"unsolved\") \n",
    "DrawMap(GetMap(),[]) \n",
    "print(\"\\n\") \n",
    "print(\"solved with DFS\") \n",
    "print(\"path is \",len(DFS(1,1,GetMap())),\" spots long\") \n",
    "DrawMap(GetMap(),DFS(1,1,GetMap())) \n",
    "print(\"\\n\") \n",
    "print(\"solved with BFS\") \n",
    "print(\"path is \",len(BFS(1,1,GetMap())),\" spots long\") \n",
    "DrawMap(GetMap(),BFS(1,1,GetMap())) "
   ]
  },
  {
   "cell_type": "code",
   "execution_count": 7,
   "metadata": {
    "collapsed": false
   },
   "outputs": [
    {
     "name": "stdout",
     "output_type": "stream",
     "text": [
      "[0, 1]\n",
      "[2, 1]\n",
      "[1, 0]\n",
      "[1, 2]\n"
     ]
    }
   ],
   "source": [
    "stack=[1,2,3]\n",
    "vetex = stack.pop()\n",
    "stack\n",
    "a=GetMap()\n",
    "\n",
    "x,y=1,1\n",
    "\n",
    "for i in [[x-1,y],[x+1,y],[x,y-1],[x,y+1]]: #new spots to try \n",
    "    print(i)\n",
    "    #queue.append((i[0],i[1],node))#create the new spot, with node as the parent "
   ]
  },
  {
   "cell_type": "code",
   "execution_count": 29,
   "metadata": {
    "collapsed": false
   },
   "outputs": [
    {
     "data": {
      "text/plain": [
       "2600.0"
      ]
     },
     "execution_count": 29,
     "metadata": {},
     "output_type": "execute_result"
    }
   ],
   "source": []
  }
 ],
 "metadata": {
  "kernelspec": {
   "display_name": "Python 3",
   "language": "python",
   "name": "python3"
  },
  "language_info": {
   "codemirror_mode": {
    "name": "ipython",
    "version": 3
   },
   "file_extension": ".py",
   "mimetype": "text/x-python",
   "name": "python",
   "nbconvert_exporter": "python",
   "pygments_lexer": "ipython3",
   "version": "3.6.0"
  }
 },
 "nbformat": 4,
 "nbformat_minor": 2
}
